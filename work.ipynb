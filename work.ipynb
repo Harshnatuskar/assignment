{
 "cells": [
  {
   "cell_type": "code",
   "execution_count": null,
   "id": "d12ddac9",
   "metadata": {},
   "outputs": [],
   "source": [
    "import pandas as pd\n",
    "import sys\n",
    "\n",
    "# Load the CSV file into a DataFrame\n",
    "file_path = 'data.csv'\n",
    "df = pd.read_csv(file_path)\n",
    "\n",
    "# Convert 'Time' and 'Time Out' columns to datetime format\n",
    "df['Time'] = pd.to_datetime(df['Time'])\n",
    "df['Time Out'] = pd.to_datetime(df['Time Out'], errors='coerce', format='%m/%d/%Y %I:%M %p')\n",
    "\n",
    "# Sort the DataFrame by 'Employee Name' and 'Time' to ensure correct calculations\n",
    "df.sort_values(by=['Employee Name', 'Time'], inplace=True)\n",
    "\n",
    "# Calculate time differences between consecutive shifts for each employee\n",
    "df['TimeDiff'] = df.groupby('Employee Name')['Time'].diff().dt.total_seconds() / 3600\n",
    "\n",
    "# Create a mask for employees who have worked for 7 consecutive days\n",
    "consecutive_days_mask = df.groupby('Employee Name')['Time'].diff().dt.days.fillna(0).eq(1).rolling(7).sum() >= 7\n",
    "\n",
    "# Get the names of employees who have worked for more than 7 consecutive days\n",
    "result_names_7_consecutive_days = df.loc[consecutive_days_mask, 'Employee Name'].unique()\n",
    "\n",
    "# Create masks for employees who meet the other criteria\n",
    "time_between_shifts_mask = (df['TimeDiff'] > 1) & (df['TimeDiff'] < 10)\n",
    "long_shift_mask = df['TimeDiff'] > 14\n",
    "\n",
    "# Get the names of employees who meet the criteria\n",
    "result_names_time_between_shifts = df.loc[time_between_shifts_mask, 'Employee Name'].unique()\n",
    "result_names_long_shift = df.loc[long_shift_mask, 'Employee Name'].unique()\n",
    "\n",
    "# Redirect the standard output to a file\n",
    "sys.stdout = open(\"output.txt\", \"w\")\n",
    "\n",
    "# Display the names of employees who have worked for more than 7 consecutive days\n",
    "print(\"\\nNames of employees who have worked for more than 7 consecutive days:\")\n",
    "for name in result_names_7_consecutive_days:\n",
    "    print(name)\n",
    "\n",
    "print(\"---\")\n",
    "\n",
    "# Display the names of employees who have worked less than 10 hours between shifts but greater than 1 hour\n",
    "print(\"Employees who have less than 10 hours between shifts but greater than 1 hour:\")\n",
    "for name in result_names_time_between_shifts:\n",
    "    print(name)\n",
    "\n",
    "print(\"---\")\n",
    "\n",
    "# Display the names of employees who have worked for more than 14 hours in a single shift\n",
    "print(\"Employees who have worked for more than 14 hours in a single shift:\")\n",
    "for name in result_names_long_shift:\n",
    "    print(name)\n",
    "\n",
    "# Close the file to save changes\n",
    "sys.stdout.close()\n"
   ]
  }
 ],
 "metadata": {
  "kernelspec": {
   "display_name": "Python 3 (ipykernel)",
   "language": "python",
   "name": "python3"
  },
  "language_info": {
   "codemirror_mode": {
    "name": "ipython",
    "version": 3
   },
   "file_extension": ".py",
   "mimetype": "text/x-python",
   "name": "python",
   "nbconvert_exporter": "python",
   "pygments_lexer": "ipython3",
   "version": "3.10.6"
  }
 },
 "nbformat": 4,
 "nbformat_minor": 5
}
